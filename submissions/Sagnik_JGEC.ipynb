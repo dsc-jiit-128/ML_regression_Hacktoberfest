{
  "nbformat": 4,
  "nbformat_minor": 5,
  "metadata": {
    "kernelspec": {
      "display_name": "Python 3 (ipykernel)",
      "language": "python",
      "name": "python3"
    },
    "language_info": {
      "codemirror_mode": {
        "name": "ipython",
        "version": 3
      },
      "file_extension": ".py",
      "mimetype": "text/x-python",
      "name": "python",
      "nbconvert_exporter": "python",
      "pygments_lexer": "ipython3",
      "version": "3.9.5"
    },
    "colab": {
      "name": "Sagnik_JGEC.ipynb",
      "provenance": []
    }
  },
  "cells": [
    {
      "cell_type": "markdown",
      "metadata": {
        "id": "df8f1bba"
      },
      "source": [
        "# **Prediction using Supervised ML**\n",
        "Predicting percentage of a student who studies 9.5 hours."
      ],
      "id": "df8f1bba"
    },
    {
      "cell_type": "code",
      "metadata": {
        "id": "9749c5a8"
      },
      "source": [
        "import warnings\n",
        "warnings.filterwarnings('ignore')\n",
        "import pandas as pd\n",
        "import tensorflow as tf\n",
        "import numpy as np\n",
        "from matplotlib import pyplot as plt"
      ],
      "id": "9749c5a8",
      "execution_count": 1,
      "outputs": []
    },
    {
      "cell_type": "code",
      "metadata": {
        "id": "6bbe0478"
      },
      "source": [
        "def build_model(my_learning_rate):\n",
        "  \"\"\"Create and compile a simple linear regression model.\"\"\"\n",
        "  # Most simple tf.keras models are sequential. \n",
        "  # A sequential model contains one or more layers.\n",
        "  model = tf.keras.models.Sequential()\n",
        "\n",
        "  # Describe the topography of the model.\n",
        "  # The topography of a simple linear regression model\n",
        "  # is a single node in a single layer. \n",
        "  model.add(tf.keras.layers.Dense(units=1, \n",
        "                                  input_shape=(1,)))\n",
        "\n",
        "  # Compile the model topography into code that \n",
        "  # TensorFlow can efficiently execute. Configure \n",
        "  # training to minimize the model's mean squared error. \n",
        "  model.compile(optimizer=tf.keras.optimizers.RMSprop(lr=my_learning_rate),\n",
        "                loss=\"mean_squared_error\",\n",
        "                metrics=[tf.keras.metrics.RootMeanSquaredError()])\n",
        "\n",
        "  return model           \n",
        "\n",
        "\n",
        "def train_model(model, feature, label, epochs, batch_size):\n",
        "  \"\"\"Train the model by feeding it data.\"\"\"\n",
        "\n",
        "  # Feed the feature values and the label values to the \n",
        "  # model. The model will train for the specified number \n",
        "  # of epochs, gradually learning how the feature values\n",
        "  # relate to the label values. \n",
        "  history = model.fit(x=feature,\n",
        "                      y=label,\n",
        "                      batch_size=batch_size,\n",
        "                      epochs=epochs)\n",
        "\n",
        "  # Gather the trained model's weight and bias.\n",
        "  trained_weight = model.get_weights()[0]\n",
        "  trained_bias = model.get_weights()[1]\n",
        "\n",
        "  # The list of epochs is stored separately from the \n",
        "  # rest of history.\n",
        "  epochs = history.epoch\n",
        "  \n",
        "  # Gather the history (a snapshot) of each epoch.\n",
        "  hist = pd.DataFrame(history.history)\n",
        "\n",
        "  # Specifically gather the model's root mean \n",
        "  #squared error at each epoch. \n",
        "  rmse = hist[\"root_mean_squared_error\"]\n",
        "\n",
        "  return trained_weight, trained_bias, epochs, rmse\n",
        "\n",
        "#print(\"Defined create_model and train_model\")"
      ],
      "id": "6bbe0478",
      "execution_count": 2,
      "outputs": []
    },
    {
      "cell_type": "code",
      "metadata": {
        "id": "261de9b6"
      },
      "source": [
        "data_file=pd.read_csv(filepath_or_buffer=\"https://raw.githubusercontent.com/AdiPersonalWorks/Random/master/student_scores%20-%20student_scores.csv\")"
      ],
      "id": "261de9b6",
      "execution_count": 3,
      "outputs": []
    },
    {
      "cell_type": "code",
      "metadata": {
        "id": "e1f613a4"
      },
      "source": [
        "feature=data_file.loc[:,\"Hours\"]"
      ],
      "id": "e1f613a4",
      "execution_count": 4,
      "outputs": []
    },
    {
      "cell_type": "code",
      "metadata": {
        "id": "20bfc7f0"
      },
      "source": [
        "my_feature=np.array(feature)"
      ],
      "id": "20bfc7f0",
      "execution_count": 5,
      "outputs": []
    },
    {
      "cell_type": "code",
      "metadata": {
        "id": "a31cd430"
      },
      "source": [
        "label=data_file.loc[:,\"Scores\"]"
      ],
      "id": "a31cd430",
      "execution_count": 6,
      "outputs": []
    },
    {
      "cell_type": "code",
      "metadata": {
        "id": "14b75a29"
      },
      "source": [
        "my_label=np.array(label)"
      ],
      "id": "14b75a29",
      "execution_count": 7,
      "outputs": []
    },
    {
      "cell_type": "code",
      "metadata": {
        "id": "2a0bba36"
      },
      "source": [
        "epochs=3"
      ],
      "id": "2a0bba36",
      "execution_count": 8,
      "outputs": []
    },
    {
      "cell_type": "markdown",
      "metadata": {
        "id": "-SFglgz33qJp"
      },
      "source": [
        "Primarily the batch size of 3 is not giving goo accuracies. Checking on upto 15 , the most promising batch size was found to be **10** as it was neither having higher bias or varinace."
      ],
      "id": "-SFglgz33qJp"
    },
    {
      "cell_type": "code",
      "metadata": {
        "id": "0179662a"
      },
      "source": [
        "my_batch_size=10"
      ],
      "id": "0179662a",
      "execution_count": 9,
      "outputs": []
    },
    {
      "cell_type": "code",
      "metadata": {
        "id": "db150b63"
      },
      "source": [
        "learning_rate=10"
      ],
      "id": "db150b63",
      "execution_count": 10,
      "outputs": []
    },
    {
      "cell_type": "code",
      "metadata": {
        "id": "2fb6d200"
      },
      "source": [
        "my_model=build_model(learning_rate)"
      ],
      "id": "2fb6d200",
      "execution_count": 11,
      "outputs": []
    },
    {
      "cell_type": "code",
      "metadata": {
        "scrolled": true,
        "colab": {
          "base_uri": "https://localhost:8080/"
        },
        "id": "643de1ae",
        "outputId": "9bc324f4-6454-4dfc-f637-4f0d8b98acba"
      },
      "source": [
        "trained_weight,trained_bias,epochs,rmse=train_model(my_model,my_feature,my_label,epochs,my_batch_size)"
      ],
      "id": "643de1ae",
      "execution_count": 12,
      "outputs": [
        {
          "output_type": "stream",
          "name": "stdout",
          "text": [
            "Epoch 1/3\n",
            "3/3 [==============================] - 1s 4ms/step - loss: 14283.8916 - root_mean_squared_error: 119.5152\n",
            "Epoch 2/3\n",
            "3/3 [==============================] - 0s 3ms/step - loss: 183.9566 - root_mean_squared_error: 13.5631\n",
            "Epoch 3/3\n",
            "3/3 [==============================] - 0s 5ms/step - loss: 67.1078 - root_mean_squared_error: 8.1919\n"
          ]
        }
      ]
    },
    {
      "cell_type": "markdown",
      "metadata": {
        "id": "1a616786"
      },
      "source": [
        "## **Model built and trained**"
      ],
      "id": "1a616786"
    },
    {
      "cell_type": "code",
      "metadata": {
        "id": "2ffd68b3"
      },
      "source": [
        "def plot_the_model(trained_weight, trained_bias, feature, label):\n",
        "  \"\"\"Plot the trained model against the training feature and label.\"\"\"\n",
        "\n",
        "  # Label the axes.\n",
        "  plt.xlabel(\"feature\")\n",
        "  plt.ylabel(\"label\")\n",
        "\n",
        "  # Plot the feature values vs. label values.\n",
        "  plt.scatter(feature, label)\n",
        "\n",
        "  # Create a red line representing the model. The red line starts\n",
        "  # at coordinates (x0, y0) and ends at coordinates (x1, y1).\n",
        "  x0 = 0\n",
        "  y0 = trained_bias\n",
        "  x1 = my_feature[-1]\n",
        "  y1 = trained_bias + (trained_weight * x1)\n",
        "  plt.plot([x0, x1], [y0, y1], c='r')\n",
        "\n",
        "  # Render the scatter plot and the red line.\n",
        "  plt.show()\n",
        "\n",
        "def plot_the_loss_curve(epochs, rmse):\n",
        "  \"\"\"Plot the loss curve, which shows loss vs. epoch.\"\"\"\n",
        "\n",
        "  plt.figure()\n",
        "  plt.xlabel(\"Epoch\")\n",
        "  plt.ylabel(\"Root Mean Squared Error\")\n",
        "\n",
        "  plt.plot(epochs, rmse, label=\"Loss\")\n",
        "  plt.legend()\n",
        "  plt.ylim([rmse.min()*0.97, rmse.max()])\n",
        "  plt.show()\n"
      ],
      "id": "2ffd68b3",
      "execution_count": 13,
      "outputs": []
    },
    {
      "cell_type": "markdown",
      "metadata": {
        "id": "32bf318e"
      },
      "source": [
        "## **Defined the plot_the_model and plot_the_loss_curve functions.**"
      ],
      "id": "32bf318e"
    },
    {
      "cell_type": "code",
      "metadata": {
        "scrolled": true,
        "colab": {
          "base_uri": "https://localhost:8080/",
          "height": 541
        },
        "id": "9b39ebb9",
        "outputId": "416bc83a-e3ed-4b4a-abf6-0e70f74a2a05"
      },
      "source": [
        "plot_the_model(trained_weight, trained_bias, my_feature, my_label)\n",
        "plot_the_loss_curve(epochs, rmse)"
      ],
      "id": "9b39ebb9",
      "execution_count": 14,
      "outputs": [
        {
          "output_type": "display_data",
          "data": {
            "image/png": "[encoded data removed]",
            "text/plain": [
              "<Figure size 432x288 with 1 Axes>"
            ]
          },
          "metadata": {
            "needs_background": "light"
          }
        },
        {
          "output_type": "display_data",
          "data": {
            "image/png": "[encoded data removed]",
            "text/plain": [
              "<Figure size 432x288 with 1 Axes>"
            ]
          },
          "metadata": {
            "needs_background": "light"
          }
        }
      ]
    },
    {
      "cell_type": "code",
      "metadata": {
        "colab": {
          "base_uri": "https://localhost:8080/"
        },
        "id": "Ez6MitLp3BKp",
        "outputId": "36df1142-b37a-4a52-cb07-4bfe19c6d2a4"
      },
      "source": [
        "rmse"
      ],
      "id": "Ez6MitLp3BKp",
      "execution_count": 15,
      "outputs": [
        {
          "output_type": "execute_result",
          "data": {
            "text/plain": [
              "0    119.515236\n",
              "1     13.563061\n",
              "2      8.191938\n",
              "Name: root_mean_squared_error, dtype: float64"
            ]
          },
          "metadata": {},
          "execution_count": 15
        }
      ]
    },
    {
      "cell_type": "code",
      "metadata": {
        "id": "8b3eeed8"
      },
      "source": [
        "q=np.array([9.5])"
      ],
      "id": "8b3eeed8",
      "execution_count": 16,
      "outputs": []
    },
    {
      "cell_type": "code",
      "metadata": {
        "id": "bad6e177"
      },
      "source": [
        "ans=my_model.predict_on_batch(q)"
      ],
      "id": "bad6e177",
      "execution_count": 17,
      "outputs": []
    },
    {
      "cell_type": "code",
      "metadata": {
        "colab": {
          "base_uri": "https://localhost:8080/"
        },
        "id": "b7432ca9",
        "outputId": "ab5d8a0e-a313-4008-c300-653d952622ab"
      },
      "source": [
        "print(\"Prediction is:\",ans)"
      ],
      "id": "b7432ca9",
      "execution_count": 18,
      "outputs": [
        {
          "output_type": "stream",
          "name": "stdout",
          "text": [
            "Prediction is: [[96.23885]]\n"
          ]
        }
      ]
    }
  ]
}