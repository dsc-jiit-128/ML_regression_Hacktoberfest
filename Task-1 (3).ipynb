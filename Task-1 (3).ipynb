{
 "cells": [
  {
   "cell_type": "markdown",
   "id": "df8f1bba",
   "metadata": {},
   "source": [
    "# **Prediction using Supervised ML**\n",
    "Predicting percentage of a student who studies 9.5 hours."
   ]
  },
  {
   "cell_type": "code",
   "execution_count": 1,
   "id": "9749c5a8",
   "metadata": {},
   "outputs": [],
   "source": [
    "import warnings\n",
    "warnings.filterwarnings('ignore')\n",
    "import pandas as pd\n",
    "import tensorflow as tf\n",
    "import numpy as np\n",
    "from matplotlib import pyplot as plt"
   ]
  },
  {
   "cell_type": "code",
   "execution_count": 2,
   "id": "6bbe0478",
   "metadata": {},
   "outputs": [],
   "source": [
    "def build_model(my_learning_rate):\n",
    "  \"\"\"Create and compile a simple linear regression model.\"\"\"\n",
    "  # Most simple tf.keras models are sequential. \n",
    "  # A sequential model contains one or more layers.\n",
    "  model = tf.keras.models.Sequential()\n",
    "\n",
    "  # Describe the topography of the model.\n",
    "  # The topography of a simple linear regression model\n",
    "  # is a single node in a single layer. \n",
    "  model.add(tf.keras.layers.Dense(units=1, \n",
    "                                  input_shape=(1,)))\n",
    "\n",
    "  # Compile the model topography into code that \n",
    "  # TensorFlow can efficiently execute. Configure \n",
    "  # training to minimize the model's mean squared error. \n",
    "  model.compile(optimizer=tf.keras.optimizers.RMSprop(lr=my_learning_rate),\n",
    "                loss=\"mean_squared_error\",\n",
    "                metrics=[tf.keras.metrics.RootMeanSquaredError()])\n",
    "\n",
    "  return model           \n",
    "\n",
    "\n",
    "def train_model(model, feature, label, epochs, batch_size):\n",
    "  \"\"\"Train the model by feeding it data.\"\"\"\n",
    "\n",
    "  # Feed the feature values and the label values to the \n",
    "  # model. The model will train for the specified number \n",
    "  # of epochs, gradually learning how the feature values\n",
    "  # relate to the label values. \n",
    "  history = model.fit(x=feature,\n",
    "                      y=label,\n",
    "                      batch_size=batch_size,\n",
    "                      epochs=epochs)\n",
    "\n",
    "  # Gather the trained model's weight and bias.\n",
    "  trained_weight = model.get_weights()[0]\n",
    "  trained_bias = model.get_weights()[1]\n",
    "\n",
    "  # The list of epochs is stored separately from the \n",
    "  # rest of history.\n",
    "  epochs = history.epoch\n",
    "  \n",
    "  # Gather the history (a snapshot) of each epoch.\n",
    "  hist = pd.DataFrame(history.history)\n",
    "\n",
    "  # Specifically gather the model's root mean \n",
    "  #squared error at each epoch. \n",
    "  rmse = hist[\"root_mean_squared_error\"]\n",
    "\n",
    "  return trained_weight, trained_bias, epochs, rmse\n",
    "\n",
    "#print(\"Defined create_model and train_model\")"
   ]
  },
  {
   "cell_type": "code",
   "execution_count": 3,
   "id": "261de9b6",
   "metadata": {},
   "outputs": [],
   "source": [
    "data_file=pd.read_csv(filepath_or_buffer=\"https://raw.githubusercontent.com/AdiPersonalWorks/Random/master/student_scores%20-%20student_scores.csv\")"
   ]
  },
  {
   "cell_type": "code",
   "execution_count": 4,
   "id": "e1f613a4",
   "metadata": {},
   "outputs": [],
   "source": [
    "feature=data_file.loc[:,\"Hours\"]"
   ]
  },
  {
   "cell_type": "code",
   "execution_count": 5,
   "id": "20bfc7f0",
   "metadata": {},
   "outputs": [],
   "source": [
    "my_feature=np.array(feature)"
   ]
  },
  {
   "cell_type": "code",
   "execution_count": 6,
   "id": "a31cd430",
   "metadata": {},
   "outputs": [],
   "source": [
    "label=data_file.loc[:,\"Scores\"]"
   ]
  },
  {
   "cell_type": "code",
   "execution_count": 7,
   "id": "14b75a29",
   "metadata": {},
   "outputs": [],
   "source": [
    "my_label=np.array(label)"
   ]
  },
  {
   "cell_type": "code",
   "execution_count": 8,
   "id": "2a0bba36",
   "metadata": {},
   "outputs": [],
   "source": [
    "epochs=3"
   ]
  },
  {
   "cell_type": "code",
   "execution_count": 9,
   "id": "0179662a",
   "metadata": {},
   "outputs": [],
   "source": [
    "my_batch_size=3"
   ]
  },
  {
   "cell_type": "code",
   "execution_count": 10,
   "id": "db150b63",
   "metadata": {},
   "outputs": [],
   "source": [
    "learning_rate=10"
   ]
  },
  {
   "cell_type": "code",
   "execution_count": 11,
   "id": "2fb6d200",
   "metadata": {},
   "outputs": [],
   "source": [
    "my_model=build_model(learning_rate)"
   ]
  },
  {
   "cell_type": "code",
   "execution_count": 12,
   "id": "643de1ae",
   "metadata": {
    "scrolled": true
   },
   "outputs": [
    {
     "name": "stdout",
     "output_type": "stream",
     "text": [
      "Epoch 1/3\n",
      "9/9 [==============================] - 1s 2ms/step - loss: 5091.5137 - root_mean_squared_error: 71.3548\n",
      "Epoch 2/3\n",
      "9/9 [==============================] - 0s 2ms/step - loss: 36.5747 - root_mean_squared_error: 6.0477\n",
      "Epoch 3/3\n",
      "9/9 [==============================] - 0s 2ms/step - loss: 492.6922 - root_mean_squared_error: 22.1967\n"
     ]
    }
   ],
   "source": [
    "trained_weight,trained_bias,epochs,rmse=train_model(my_model,my_feature,my_label,epochs,my_batch_size)"
   ]
  },
  {
   "cell_type": "markdown",
   "id": "1a616786",
   "metadata": {},
   "source": [
    "## **Model built and trained**"
   ]
  },
  {
   "cell_type": "code",
   "execution_count": 13,
   "id": "2ffd68b3",
   "metadata": {},
   "outputs": [],
   "source": [
    "def plot_the_model(trained_weight, trained_bias, feature, label):\n",
    "  \"\"\"Plot the trained model against the training feature and label.\"\"\"\n",
    "\n",
    "  # Label the axes.\n",
    "  plt.xlabel(\"feature\")\n",
    "  plt.ylabel(\"label\")\n",
    "\n",
    "  # Plot the feature values vs. label values.\n",
    "  plt.scatter(feature, label)\n",
    "\n",
    "  # Create a red line representing the model. The red line starts\n",
    "  # at coordinates (x0, y0) and ends at coordinates (x1, y1).\n",
    "  x0 = 0\n",
    "  y0 = trained_bias\n",
    "  x1 = my_feature[-1]\n",
    "  y1 = trained_bias + (trained_weight * x1)\n",
    "  plt.plot([x0, x1], [y0, y1], c='r')\n",
    "\n",
    "  # Render the scatter plot and the red line.\n",
    "  plt.show()\n",
    "\n",
    "def plot_the_loss_curve(epochs, rmse):\n",
    "  \"\"\"Plot the loss curve, which shows loss vs. epoch.\"\"\"\n",
    "\n",
    "  plt.figure()\n",
    "  plt.xlabel(\"Epoch\")\n",
    "  plt.ylabel(\"Root Mean Squared Error\")\n",
    "\n",
    "  plt.plot(epochs, rmse, label=\"Loss\")\n",
    "  plt.legend()\n",
    "  plt.ylim([rmse.min()*0.97, rmse.max()])\n",
    "  plt.show()\n"
   ]
  },
  {
   "cell_type": "markdown",
   "id": "32bf318e",
   "metadata": {},
   "source": [
    "## **Defined the plot_the_model and plot_the_loss_curve functions.**"
   ]
  },
  {
   "cell_type": "code",
   "execution_count": 14,
   "id": "9b39ebb9",
   "metadata": {
    "scrolled": true
   },
   "outputs": [
    {
     "data": {
      "image/png": "[encoded data removed]",
      "text/plain": [
       "<Figure size 432x288 with 1 Axes>"
      ]
     },
     "metadata": {
      "needs_background": "light"
     },
     "output_type": "display_data"
    },
    {
     "data": {
      "image/png": "[encoded data removed]",
      "text/plain": [
       "<Figure size 432x288 with 1 Axes>"
      ]
     },
     "metadata": {
      "needs_background": "light"
     },
     "output_type": "display_data"
    }
   ],
   "source": [
    "plot_the_model(trained_weight, trained_bias, my_feature, my_label)\n",
    "plot_the_loss_curve(epochs, rmse)"
   ]
  },
  {
   "cell_type": "code",
   "execution_count": 15,
   "id": "8b3eeed8",
   "metadata": {},
   "outputs": [],
   "source": [
    "q=np.array([9.5])"
   ]
  },
  {
   "cell_type": "code",
   "execution_count": 16,
   "id": "bad6e177",
   "metadata": {},
   "outputs": [],
   "source": [
    "ans=my_model.predict_on_batch(q)"
   ]
  },
  {
   "cell_type": "code",
   "execution_count": 17,
   "id": "b7432ca9",
   "metadata": {},
   "outputs": [
    {
     "name": "stdout",
     "output_type": "stream",
     "text": [
      "Prediction is: [[36.40398]]\n"
     ]
    }
   ],
   "source": [
    "print(\"Prediction is:\",ans)"
   ]
  }
 ],
 "metadata": {
  "kernelspec": {
   "display_name": "Python 3 (ipykernel)",
   "language": "python",
   "name": "python3"
  },
  "language_info": {
   "codemirror_mode": {
    "name": "ipython",
    "version": 3
   },
   "file_extension": ".py",
   "mimetype": "text/x-python",
   "name": "python",
   "nbconvert_exporter": "python",
   "pygments_lexer": "ipython3",
   "version": "3.9.5"
  }
 },
 "nbformat": 4,
 "nbformat_minor": 5
}
